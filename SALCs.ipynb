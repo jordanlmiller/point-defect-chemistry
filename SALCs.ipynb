{
 "cells": [
  {
   "attachments": {},
   "cell_type": "markdown",
   "id": "a63bd0c9",
   "metadata": {},
   "source": [
    "<h3>Generation of SALCs in Octahedral and Tetrahedral Coordination Environments</h3>"
   ]
  },
  {
   "cell_type": "code",
   "execution_count": 1,
   "id": "cd43dc3c",
   "metadata": {},
   "outputs": [],
   "source": [
    "import numpy as np\n",
    "import matplotlib.pyplot as plt\n",
    "import pandas as pd"
   ]
  },
  {
   "attachments": {},
   "cell_type": "markdown",
   "id": "a5fe6190",
   "metadata": {},
   "source": [
    "<h5>Local Imports</h5>"
   ]
  },
  {
   "cell_type": "code",
   "execution_count": 2,
   "id": "2c044bc2",
   "metadata": {},
   "outputs": [],
   "source": [
    "from SALC_functions import *"
   ]
  },
  {
   "attachments": {},
   "cell_type": "markdown",
   "id": "71165255",
   "metadata": {},
   "source": [
    "Octahedral Symmetry Group, $O_h$"
   ]
  },
  {
   "attachments": {},
   "cell_type": "markdown",
   "id": "aea72cc3",
   "metadata": {},
   "source": [
    "The operations which compose the octahedral point group, $O_h$, of an octahedron with vertices at integer positions nearest to the origin as follows\n",
    "\n",
    "$$(1, 0, 0), (-1, 0, 0), (0, 1, 0), (0, -1, 0), (0, 0, 1), (0, 0, -1)$$\n",
    "\n",
    "Will be stored in a dictionary for later use."
   ]
  },
  {
   "cell_type": "code",
   "execution_count": 3,
   "id": "35456308",
   "metadata": {},
   "outputs": [],
   "source": [
    "### Vertices of the Octahedron ###\n",
    "\n",
    "octahedral_vertices = np.array([[1,  0, -1,  0,  0,  0],\n",
    "                                [0,  1,  0, -1,  0,  0],\n",
    "                                [0,  0,  0,  0,  1, -1]], dtype=np.float64)\n",
    "\n",
    "\n",
    "\n",
    "### The group symmetry elements as a list of the conjugacy classes of the group ###\n",
    "\n",
    "#Identity\n",
    "E = [np.eye(3)]\n",
    "\n",
    "#180° rotation about the pricipal axes\n",
    "C_2_4 = [rotation([ 1, 0, 0], np.pi),\n",
    "         rotation([ 0, 1, 0], np.pi), \n",
    "         rotation([ 0, 0, 1], np.pi)]\n",
    "\n",
    "#90° rotations about the principal axes\n",
    "C_1_4 = [rotation([ 1, 0, 0], np.pi/2), \n",
    "         rotation([ 0, 1, 0], np.pi/2), \n",
    "         rotation([ 0, 0, 1], np.pi/2), \n",
    "         rotation([ 1, 0, 0],-np.pi/2), \n",
    "         rotation([ 0, 1, 0],-np.pi/2), \n",
    "         rotation([ 0, 0, 1],-np.pi/2)]\n",
    "\n",
    "#180° rotation about the bisectors of the edges\n",
    "C_2_prime = [rotation([ 1, 1, 0], np.pi), \n",
    "             rotation([-1, 1, 0], np.pi), \n",
    "             rotation([ 1, 0, 1], np.pi), \n",
    "             rotation([ 0, 1, 1], np.pi), \n",
    "             rotation([-1, 0, 1], np.pi), \n",
    "             rotation([ 0,-1, 1], np.pi)]\n",
    "\n",
    "#120° rotation about the triangular face normal\n",
    "C_1_3 = [rotation([ 1, 1, 1], 2*np.pi/3), \n",
    "         rotation([-1, 1, 1], 2*np.pi/3), \n",
    "         rotation([-1,-1, 1], 2*np.pi/3), \n",
    "         rotation([ 1,-1, 1], 2*np.pi/3), \n",
    "         rotation([ 1, 1, 1],-2*np.pi/3), \n",
    "         rotation([-1, 1, 1],-2*np.pi/3), \n",
    "         rotation([-1,-1, 1],-2*np.pi/3), \n",
    "         rotation([ 1,-1, 1],-2*np.pi/3)]\n",
    "\n",
    "#Inversion\n",
    "i = [-np.eye(3)]\n",
    "\n",
    "#Inversion, then 180° rotation about the pricipal axes\n",
    "iC_2_4 = [-np.eye(3) @ element for element in C_2_4]\n",
    "\n",
    "#Inversion, then 90° rotations about the principal axes\n",
    "iC_1_4 = [-np.eye(3) @ element for element in C_1_4]\n",
    "\n",
    "#Inversion, 180° rotation about the bisectors of the edges\n",
    "iC_2_prime = [-np.eye(3) @ element for element in C_2_prime]\n",
    "\n",
    "#Inversion, 120° rotation about the triangular face normal\n",
    "iC_1_3 = [-np.eye(3) @ element for element in C_1_3]\n",
    "\n",
    "oct_classes = [E, C_2_4, C_1_4, C_2_prime, C_1_3, i, iC_2_4, iC_1_4, iC_2_prime, iC_1_3]\n",
    "oct_class_size = [len(cls) for cls in oct_classes]\n",
    "oct_order = sum(oct_class_size)\n",
    "\n",
    "group_elements = []\n",
    "for cls in oct_classes:\n",
    "    for element in cls:\n",
    "        group_elements.append(element)\n",
    "\n",
    "#Check that none of the group elements are equal\n",
    "for i in range(oct_order):\n",
    "    for j in range(i+1, oct_order):\n",
    "        if array_equal(group_elements[i], group_elements[j]):\n",
    "            print(\"Elements {i}, {j} are equal\".format(i=i, j=j))\n",
    "\n",
    "#Check the closure of the group\n",
    "for i in range(oct_order):\n",
    "    for j in range(oct_order):\n",
    "        product = group_elements[i] @ group_elements[j]\n",
    "        included = False\n",
    "        for k in range(oct_order):\n",
    "            if array_equal(product, group_elements[k]):\n",
    "                included = True\n",
    "                break\n",
    "        if not included:\n",
    "            print(\"The product of elements {i} and {j} is not in the group\".format(i=i, j=j))\n",
    "\n",
    "#Check that the vertices are invariant under the group actions\n",
    "for i in range(oct_order):\n",
    "    transformed_vertices = group_elements[i] @ octahedral_vertices\n",
    "    p = permutation_matrix(octahedral_vertices, transformed_vertices)\n",
    "    if not valid_permutation_matrix(p):\n",
    "        print(\"Element {i} does not leave the vertices invariant\".format(i=i))\n",
    "\n",
    "\n",
    "\n",
    "            \n",
    "\n",
    "### Octahedral Character Table (Dresselhaus Table A.31)###\n",
    "\n",
    "oct_char_table = {\n",
    "    \"A_plus_1\"  : np.array([1, 1, 1, 1, 1, 1, 1, 1, 1, 1]),\n",
    "    \"A_plus_2\"  : np.array([1, 1,-1,-1, 1, 1, 1,-1,-1, 1]),\n",
    "    \"E_plus\"    : np.array([2, 2, 0, 0,-1, 2, 2, 0, 0,-1]),\n",
    "    \"T_minus_1\" : np.array([3,-1, 1,-1, 0,-3, 1,-1, 1, 0]),\n",
    "    \"T_minus_2\" : np.array([3,-1,-1, 1, 0,-3, 1, 1,-1, 0]),\n",
    "    \"A_minus_1\" : np.array([1, 1, 1, 1, 1,-1,-1,-1,-1,-1]),\n",
    "    \"A_minus_2\" : np.array([1, 1,-1,-1, 1,-1,-1, 1, 1,-1]),\n",
    "    \"E_minus\"   : np.array([2, 2, 0, 0,-1,-2,-2, 0, 0, 1]),\n",
    "    \"T_plus_1\"  : np.array([3,-1, 1,-1, 0, 3,-1, 1,-1, 0]),\n",
    "    \"T_plus_2\"  : np.array([3,-1,-1, 1, 0, 3,-1,-1, 1, 0]),\n",
    "}\n",
    "#dimensionality of the IRs\n",
    "oct_l = [1,1,2,3,3,1,1,2,3,3]\n"
   ]
  },
  {
   "attachments": {},
   "cell_type": "markdown",
   "id": "9d15fdf1",
   "metadata": {},
   "source": [
    "Tetrahedral Symmetry Group, $T_d$"
   ]
  },
  {
   "attachments": {},
   "cell_type": "markdown",
   "id": "2552a932",
   "metadata": {},
   "source": [
    "The operations which compose the tetrahedral point group, $T_d$, of a tetrahedron with the following vertices\n",
    "\n",
    "$$(1, 0, -\\frac{\\sqrt{2}}{2}), (-1, 0, -\\frac{\\sqrt{2}}{2}), (0, 1, \\frac{\\sqrt{2}}{2}), (0, -1, \\frac{\\sqrt{2}}{2})$$\n"
   ]
  },
  {
   "cell_type": "code",
   "execution_count": 4,
   "id": "f9e8eea0",
   "metadata": {},
   "outputs": [],
   "source": [
    "### Vertices of the Tetrahedron ###\n",
    "\n",
    "tetrahedral_vertices = np.array([[            1,           -1,            0,            0],\n",
    "                                 [            0,            0,            1,           -1],\n",
    "                                 [-np.sqrt(2)/2,-np.sqrt(2)/2, np.sqrt(2)/2, np.sqrt(2)/2]], dtype=np.float64)\n",
    "\n",
    "\n",
    "\n",
    "\n",
    "\n",
    "### The group symmetry elements as a list of the conjugacy classes of the group ###\n",
    "\n",
    "#Identity\n",
    "E = [np.eye(3)]\n",
    "\n",
    "#120° rotations about the vertices\n",
    "C_1_3 = [rotation([ 1, 0, -np.sqrt(2)/2], 2*np.pi/3),\n",
    "         rotation([-1, 0, -np.sqrt(2)/2], 2*np.pi/3),\n",
    "         rotation([ 0, 1,  np.sqrt(2)/2], 2*np.pi/3),\n",
    "         rotation([ 0,-1,  np.sqrt(2)/2], 2*np.pi/3),\n",
    "         rotation([ 1, 0, -np.sqrt(2)/2], 4*np.pi/3),\n",
    "         rotation([-1, 0, -np.sqrt(2)/2], 4*np.pi/3),\n",
    "         rotation([ 0, 1,  np.sqrt(2)/2], 4*np.pi/3),\n",
    "         rotation([ 0,-1,  np.sqrt(2)/2], 4*np.pi/3)]\n",
    "\n",
    "#180° rotation about the edge bisectors\n",
    "C_1_2 = [rotation([ 0, 0, 1], np.pi),\n",
    "         rotation([ 1, 1, 0], np.pi),\n",
    "         rotation([-1, 1, 0], np.pi)]\n",
    "\n",
    "#mirror reflections\n",
    "sigma_d = [reflection([ 0, 1, 0]),\n",
    "           reflection([ np.sqrt(2),-np.sqrt(2), 2]),\n",
    "           reflection([ np.sqrt(2), np.sqrt(2), 2]),\n",
    "           reflection([ np.sqrt(2), np.sqrt(2),-2]),\n",
    "           reflection([-np.sqrt(2), np.sqrt(2), 2]),\n",
    "           reflection([ 1, 0, 0])]\n",
    "\n",
    "#90° roto-reflection about the edge bisectors\n",
    "S_1_4 = [rotation([ 0, 0, 1], np.pi/2)@reflection([ 0, 0, 1]),\n",
    "         rotation([ 1, 1, 0], np.pi/2)@reflection([ 1, 1, 0]),\n",
    "         rotation([-1, 1, 0], np.pi/2)@reflection([-1, 1, 0]),\n",
    "         rotation([ 0, 0, 1], 3*np.pi/2)@reflection([ 0, 0, 1]),\n",
    "         rotation([ 1, 1, 0], 3*np.pi/2)@reflection([ 1, 1, 0]),\n",
    "         rotation([-1, 1, 0], 3*np.pi/2)@reflection([-1, 1, 0])]\n",
    "\n",
    "tet_classes = [E, C_1_3, C_1_2, sigma_d, S_1_4]\n",
    "tet_class_size = [len(cls) for cls in tet_classes]\n",
    "tet_order = sum(tet_class_size)\n",
    "\n",
    "group_elements = []\n",
    "for cls in tet_classes:\n",
    "    for element in cls:\n",
    "        group_elements.append(element)\n",
    "\n",
    "#Check that none of the group elements are equal\n",
    "for i in range(tet_order):\n",
    "    for j in range(i+1, tet_order):\n",
    "        if array_equal(group_elements[i], group_elements[j]):\n",
    "            print(\"Elements {i}, {j} are equal\".format(i=i, j=j))\n",
    "\n",
    "#Check the closure of the group\n",
    "for i in range(tet_order):\n",
    "    for j in range(tet_order):\n",
    "        product = group_elements[i] @ group_elements[j]\n",
    "        included = False\n",
    "        for k in range(tet_order):\n",
    "            if array_equal(product, group_elements[k]):\n",
    "                included = True\n",
    "                break\n",
    "        if not included:\n",
    "            print(\"The product of elements {i} and {j} is not in the group\".format(i=i, j=j))\n",
    "            print(np.around(product, 3))\n",
    "\n",
    "#Check that the vertices are invariant under the group actions\n",
    "for i in range(tet_order):\n",
    "    transformed_vertices = group_elements[i] @ tetrahedral_vertices\n",
    "    p = permutation_matrix(tetrahedral_vertices, transformed_vertices)\n",
    "    if not valid_permutation_matrix(p):\n",
    "        print(\"Element {i} does not leave the vertices invariant\".format(i=i))\n",
    "\n",
    "\n",
    "\n",
    "\n",
    "### Tetrahedral Character Table (Dresselhaus Table A.32)###\n",
    "\n",
    "tet_char_table = {\n",
    "    \"A_1\" : np.array([1, 1, 1, 1, 1]),\n",
    "    \"A_2\" : np.array([1, 1, 1,-1,-1]),\n",
    "    \"E\"   : np.array([2,-1, 2, 0, 0]),\n",
    "    \"T_1\" : np.array([3, 0,-1,-1, 1]),\n",
    "    \"T_2\" : np.array([3, 0,-1, 1,-1]),\n",
    "}\n",
    "#dimensionality of the IRs\n",
    "tet_l  = [1,1,2,3,3]"
   ]
  },
  {
   "attachments": {},
   "cell_type": "markdown",
   "id": "60393ac3",
   "metadata": {},
   "source": [
    "<h3>S-orbital Representations</h3>\n",
    "\n",
    "Since S-orbitals have spherical symmetry they can be modeled as points. The S-orbitals at each of the vertices can therefore be represented as vectors which point to the vertex on which the S-orbital is located."
   ]
  },
  {
   "cell_type": "code",
   "execution_count": 5,
   "id": "fd9ee88d",
   "metadata": {},
   "outputs": [],
   "source": [
    "def array_equal(a1: np.array, a2: np.array, eps=0.0001) -> np.array:\n",
    "    \"\"\"Check if two arrays are equal up to a accuracy factor eps\"\"\"\n",
    "    diff = np.abs(a1 - a2)\n",
    "    return np.all(diff < eps)\n",
    "\n",
    "\n",
    "def permutation_matrix(vertices, transformed_vertices):\n",
    "    \"\"\"generate a permutation matrix associated with a transformation matrix acting on a set of vertices\"\"\"\n",
    "    _, cols = vertices.shape\n",
    "    perm_mat = np.zeros((cols, cols), dtype=np.int8)\n",
    "    for i in range(cols):\n",
    "        for j in range(cols):\n",
    "            if array_equal(vertices[:,i], transformed_vertices[:,j]):\n",
    "                perm_mat[i,j] = 1\n",
    "                break\n",
    "    return perm_mat\n",
    "\n",
    "\n",
    "def point_representation(element : np.ndarray, vertices : np.ndarray) -> np.ndarray:\n",
    "    \"\"\"generate a list of representations of the group elements based on their action of the vertices, return as list of permuation matrices\"\"\"\n",
    "    transformed_vertices = element @ vertices\n",
    "    return permutation_matrix(vertices, transformed_vertices)\n",
    "      "
   ]
  },
  {
   "attachments": {},
   "cell_type": "markdown",
   "id": "d1b55ca4",
   "metadata": {},
   "source": [
    "<h5>Octahedral S-orbital SALCs</h5>"
   ]
  },
  {
   "cell_type": "code",
   "execution_count": 6,
   "id": "84e0dd51",
   "metadata": {},
   "outputs": [
    {
     "name": "stdout",
     "output_type": "stream",
     "text": [
      "1 SALC(s) have A_plus_1 symmetry\n",
      "0 SALC(s) have A_plus_2 symmetry\n",
      "1 SALC(s) have E_plus symmetry\n",
      "1 SALC(s) have T_minus_1 symmetry\n",
      "0 SALC(s) have T_minus_2 symmetry\n",
      "0 SALC(s) have A_minus_1 symmetry\n",
      "0 SALC(s) have A_minus_2 symmetry\n",
      "0 SALC(s) have E_minus symmetry\n",
      "0 SALC(s) have T_plus_1 symmetry\n",
      "0 SALC(s) have T_plus_2 symmetry\n"
     ]
    }
   ],
   "source": [
    "#calculate the degeneracy of the SALCs in each irreducible group\n",
    "for IR_key, IR_chars in oct_char_table.items():\n",
    "\n",
    "    rep_chars = []\n",
    "    for cls in oct_classes:\n",
    "        rep = point_representation(cls[0], octahedral_vertices)\n",
    "        rep_chars.append(np.trace(rep))\n",
    "\n",
    "    rep_chars = np.array(rep_chars)\n",
    "    row = np.multiply(oct_class_size, IR_chars)\n",
    "    num = int((1/oct_order)*np.dot(row, rep_chars))\n",
    "    print(\"{n} SALC(s) have {sym} symmetry\".format(n=num, sym=IR_key))"
   ]
  },
  {
   "attachments": {},
   "cell_type": "markdown",
   "id": "4901cdb0",
   "metadata": {},
   "source": [
    "Defining the Projection Operator for Points"
   ]
  },
  {
   "cell_type": "code",
   "execution_count": 7,
   "id": "f86b16e7",
   "metadata": {},
   "outputs": [],
   "source": [
    "def point_proj_operator(IR_key: str, class_list: list, char_table: dict, IR_dim: list, vertices) -> np.ndarray:\n",
    "    \"\"\"generate the projection operator\"\"\"\n",
    "    _, basis_dim = vertices.shape\n",
    "    proj_operator = np.zeros((basis_dim,basis_dim), dtype=np.float64)\n",
    "    h = sum([len(cls) for cls in class_list])\n",
    "    for i, cls in enumerate(class_list):\n",
    "        for element in cls:\n",
    "            proj_operator += char_table[IR_key][i] * point_representation(element, vertices)\n",
    "    for i, key in enumerate(char_table.keys()):\n",
    "        if key == IR_key:\n",
    "            n = i\n",
    "    proj_operator *= (IR_dim[n]/h)\n",
    "    return proj_operator\n",
    "    "
   ]
  },
  {
   "attachments": {},
   "cell_type": "markdown",
   "id": "ae3a4159",
   "metadata": {},
   "source": [
    "Finding SALCs belonging to the $A_1^{+}$ irreducible group"
   ]
  },
  {
   "cell_type": "code",
   "execution_count": 13,
   "id": "79fbc896",
   "metadata": {},
   "outputs": [
    {
     "name": "stdout",
     "output_type": "stream",
     "text": [
      "The basis set under the action of the projection operator\n",
      "[[0.167 0.167 0.167 0.167 0.167 0.167]\n",
      " [0.167 0.167 0.167 0.167 0.167 0.167]\n",
      " [0.167 0.167 0.167 0.167 0.167 0.167]\n",
      " [0.167 0.167 0.167 0.167 0.167 0.167]\n",
      " [0.167 0.167 0.167 0.167 0.167 0.167]\n",
      " [0.167 0.167 0.167 0.167 0.167 0.167]] \n",
      "\n",
      "The unique orthonormal basis consists of the following\n",
      "[0.40824829 0.40824829 0.40824829 0.40824829 0.40824829 0.40824829]\n"
     ]
    }
   ],
   "source": [
    "proj_operator = point_proj_operator(\"A_plus_1\", oct_classes, oct_char_table, oct_l, octahedral_vertices)\n",
    "proj_basis = proj_operator @ np.eye(6)\n",
    "print(\"The basis set under the action of the projection operator\")\n",
    "print(np.around(proj_basis,3), \"\\n\")\n",
    "orthonormal_basis = gram_schmidt(np.hsplit(proj_basis, 6))\n",
    "print(\"The unique orthonormal basis consists of the following\")\n",
    "for v in orthonormal_basis:\n",
    "    print(v)"
   ]
  },
  {
   "attachments": {},
   "cell_type": "markdown",
   "id": "b8d9dead",
   "metadata": {},
   "source": [
    "Finding SALCs belonging to the $E^{+}$ irreducible group"
   ]
  },
  {
   "cell_type": "code",
   "execution_count": 19,
   "id": "2c2be4ca",
   "metadata": {},
   "outputs": [
    {
     "name": "stdout",
     "output_type": "stream",
     "text": [
      "The basis set under the action of the projection operator\n",
      "[[ 0.333 -0.167  0.333 -0.167 -0.167 -0.167]\n",
      " [-0.167  0.333 -0.167  0.333 -0.167 -0.167]\n",
      " [ 0.333 -0.167  0.333 -0.167 -0.167 -0.167]\n",
      " [-0.167  0.333 -0.167  0.333 -0.167 -0.167]\n",
      " [-0.167 -0.167 -0.167 -0.167  0.333  0.333]\n",
      " [-0.167 -0.167 -0.167 -0.167  0.333  0.333]] \n",
      "\n",
      "The unique orthonormal basis consists of the following\n",
      "[ 0.57735027 -0.28867513  0.57735027 -0.28867513 -0.28867513 -0.28867513]\n",
      "[ 0.   0.5  0.   0.5 -0.5 -0.5]\n"
     ]
    }
   ],
   "source": [
    "proj_operator = point_proj_operator(\"E_plus\", oct_classes, oct_char_table, oct_l, octahedral_vertices)\n",
    "proj_basis = proj_operator @ np.eye(6)\n",
    "print(\"The basis set under the action of the projection operator\")\n",
    "print(np.around(proj_basis,3), \"\\n\")\n",
    "orthonormal_basis = gram_schmidt(np.hsplit(proj_basis, 6))\n",
    "print(\"The unique orthonormal basis consists of the following\")\n",
    "for v in orthonormal_basis:\n",
    "    print(v)"
   ]
  },
  {
   "attachments": {},
   "cell_type": "markdown",
   "id": "66ca8753",
   "metadata": {},
   "source": [
    "Finding SALCs belonging to the $T_1^{-}$ irreducible group"
   ]
  },
  {
   "cell_type": "code",
   "execution_count": 20,
   "id": "808de5ce",
   "metadata": {},
   "outputs": [
    {
     "name": "stdout",
     "output_type": "stream",
     "text": [
      "The basis set under the action of the projection operator\n",
      "[[ 0.5  0.  -0.5  0.   0.   0. ]\n",
      " [ 0.   0.5  0.  -0.5  0.   0. ]\n",
      " [-0.5  0.   0.5  0.   0.   0. ]\n",
      " [ 0.  -0.5  0.   0.5  0.   0. ]\n",
      " [ 0.   0.   0.   0.   0.5 -0.5]\n",
      " [ 0.   0.   0.   0.  -0.5  0.5]] \n",
      "\n",
      "The unique orthonormal basis consists of the following\n",
      "[ 0.70710678  0.         -0.70710678  0.          0.          0.        ]\n",
      "[ 0.          0.70710678  0.         -0.70710678  0.          0.        ]\n",
      "[ 0.          0.          0.          0.          0.70710678 -0.70710678]\n"
     ]
    }
   ],
   "source": [
    "proj_operator = point_proj_operator(\"T_minus_1\", oct_classes, oct_char_table, oct_l, octahedral_vertices)\n",
    "proj_basis = proj_operator @ np.eye(6)\n",
    "print(\"The basis set under the action of the projection operator\")\n",
    "print(np.around(proj_basis,3), \"\\n\")\n",
    "orthonormal_basis = gram_schmidt(np.hsplit(proj_basis, 6))\n",
    "print(\"The unique orthonormal basis consists of the following\")\n",
    "for v in orthonormal_basis:\n",
    "    print(v)"
   ]
  },
  {
   "attachments": {},
   "cell_type": "markdown",
   "id": "6cb4d943",
   "metadata": {},
   "source": [
    "<h5>Tetrahedral S-orbital SALCs</h5>"
   ]
  },
  {
   "cell_type": "code",
   "execution_count": 140,
   "id": "c97f67f9",
   "metadata": {},
   "outputs": [
    {
     "name": "stdout",
     "output_type": "stream",
     "text": [
      "1 SALC(s) have A_1 symmetry\n",
      "0 SALC(s) have A_2 symmetry\n",
      "0 SALC(s) have E symmetry\n",
      "0 SALC(s) have T_1 symmetry\n",
      "1 SALC(s) have T_2 symmetry\n"
     ]
    }
   ],
   "source": [
    "#calculate the degeneracy of the SALCs in each irreducible group\n",
    "for IR_key, IR_chars in tet_char_table.items():\n",
    "\n",
    "    rep_chars = []\n",
    "    for cls in tet_classes:\n",
    "        rep = point_representation(cls[0], tetrahedral_vertices)\n",
    "        rep_chars.append(np.trace(rep))\n",
    "\n",
    "    rep_chars = np.array(rep_chars)\n",
    "    row = np.multiply(tet_class_size, IR_chars)\n",
    "    num = int((1/tet_order)*np.dot(row, rep_chars))\n",
    "    print(\"{n} SALC(s) have {sym} symmetry\".format(n=num, sym=IR_key))"
   ]
  },
  {
   "attachments": {},
   "cell_type": "markdown",
   "id": "37947fcf",
   "metadata": {},
   "source": [
    "Finding SALCs belonging to the $A_1$ irreducible group"
   ]
  },
  {
   "cell_type": "code",
   "execution_count": 21,
   "id": "248809ca",
   "metadata": {},
   "outputs": [
    {
     "name": "stdout",
     "output_type": "stream",
     "text": [
      "The basis set under the action of the projection operator\n",
      "[[0.25 0.25 0.25 0.25]\n",
      " [0.25 0.25 0.25 0.25]\n",
      " [0.25 0.25 0.25 0.25]\n",
      " [0.25 0.25 0.25 0.25]] \n",
      "\n",
      "The unique orthonormal basis consists of the following\n",
      "[0.5 0.5 0.5 0.5]\n"
     ]
    }
   ],
   "source": [
    "proj_operator = point_proj_operator(\"A_1\", tet_classes, tet_char_table, tet_l, tetrahedral_vertices)\n",
    "proj_basis = proj_operator @ np.eye(4)\n",
    "print(\"The basis set under the action of the projection operator\")\n",
    "print(np.around(proj_basis,3), \"\\n\")\n",
    "orthonormal_basis = gram_schmidt(np.hsplit(proj_basis, 4))\n",
    "print(\"The unique orthonormal basis consists of the following\")\n",
    "for v in orthonormal_basis:\n",
    "    print(v)"
   ]
  },
  {
   "attachments": {},
   "cell_type": "markdown",
   "id": "2d06f8b0",
   "metadata": {},
   "source": [
    "Finding SALCs belonging to the $T_2$ irreducible group"
   ]
  },
  {
   "cell_type": "code",
   "execution_count": 22,
   "id": "43b93f55",
   "metadata": {},
   "outputs": [
    {
     "name": "stdout",
     "output_type": "stream",
     "text": [
      "The basis set under the action of the projection operator\n",
      "[[ 0.75 -0.25 -0.25 -0.25]\n",
      " [-0.25  0.75 -0.25 -0.25]\n",
      " [-0.25 -0.25  0.75 -0.25]\n",
      " [-0.25 -0.25 -0.25  0.75]] \n",
      "\n",
      "The unique orthonormal basis consists of the following\n",
      "[ 0.866 -0.289 -0.289 -0.289]\n",
      "[-0.     0.816 -0.408 -0.408]\n",
      "[-0.     0.     0.707 -0.707]\n"
     ]
    }
   ],
   "source": [
    "proj_operator = point_proj_operator(\"T_2\", tet_classes, tet_char_table, tet_l, tetrahedral_vertices)\n",
    "proj_basis = proj_operator @ np.eye(4)\n",
    "print(\"The basis set under the action of the projection operator\")\n",
    "print(np.around(proj_basis,3), \"\\n\")\n",
    "orthonormal_basis = gram_schmidt(np.hsplit(proj_basis, 4))\n",
    "print(\"The unique orthonormal basis consists of the following\")\n",
    "for v in orthonormal_basis:\n",
    "    print(np.around(v,3))"
   ]
  },
  {
   "attachments": {},
   "cell_type": "markdown",
   "id": "a09d2839",
   "metadata": {},
   "source": [
    "<h3>P-orbital Representations</h3>\n",
    "\n",
    "P-orbitals transform as vectors located at each of the vertices."
   ]
  },
  {
   "cell_type": "code",
   "execution_count": 26,
   "id": "50aa2893",
   "metadata": {},
   "outputs": [],
   "source": [
    "def vector_representation(element : np.ndarray, vertices : np.ndarray) -> np.ndarray:\n",
    "    \"\"\"generate representations of the group elements based on their action on the vectors located at each vertex\"\"\"\n",
    "    _, n = vertices.shape\n",
    "    v = [np.array([1,0,0], dtype=np.float64),\n",
    "         np.array([0,1,0], dtype=np.float64),\n",
    "         np.array([0,0,1], dtype=np.float64)]\n",
    "\n",
    "    rep = np.zeros((3*n, 3*n), dtype=np.float64)\n",
    "    transformed_vertices = element @ vertices\n",
    "    p = permutation_matrix(vertices, transformed_vertices)\n",
    "    for i in range(n):\n",
    "        for j in range(n):\n",
    "            if p[i,j]:\n",
    "                for k in range(3):\n",
    "                    for l in range(3):\n",
    "                        rep[3*i+k, 3*j+l] = np.dot(v[k], np.dot(element, v[l]))\n",
    "    return rep\n"
   ]
  },
  {
   "attachments": {},
   "cell_type": "markdown",
   "id": "b966ece0",
   "metadata": {},
   "source": [
    "<h5>Octahedral P-orbital SALCs</h5>"
   ]
  },
  {
   "cell_type": "code",
   "execution_count": 27,
   "id": "8b767625",
   "metadata": {},
   "outputs": [
    {
     "name": "stdout",
     "output_type": "stream",
     "text": [
      "1 SALC(s) have A_plus_1 symmetry\n",
      "0 SALC(s) have A_plus_2 symmetry\n",
      "1 SALC(s) have E_plus symmetry\n",
      "2 SALC(s) have T_minus_1 symmetry\n",
      "1 SALC(s) have T_minus_2 symmetry\n",
      "0 SALC(s) have A_minus_1 symmetry\n",
      "0 SALC(s) have A_minus_2 symmetry\n",
      "0 SALC(s) have E_minus symmetry\n",
      "1 SALC(s) have T_plus_1 symmetry\n",
      "1 SALC(s) have T_plus_2 symmetry\n"
     ]
    }
   ],
   "source": [
    "#calculate the degeneracy of the SALCs in each irreducible group\n",
    "for IR_key, IR_chars in oct_char_table.items():\n",
    "\n",
    "    rep_chars = []\n",
    "    for cls in oct_classes:\n",
    "        rep = vector_representation(cls[0], octahedral_vertices)\n",
    "        rep_chars.append(np.trace(rep))\n",
    "\n",
    "    rep_chars = np.array(rep_chars)\n",
    "    row = np.multiply(oct_class_size, IR_chars)\n",
    "    num = int(np.around((1/oct_order)*np.dot(row, rep_chars), 3))\n",
    "    print(\"{n} SALC(s) have {sym} symmetry\".format(n=num, sym=IR_key))"
   ]
  },
  {
   "cell_type": "code",
   "execution_count": 28,
   "id": "a928a828",
   "metadata": {},
   "outputs": [],
   "source": [
    "def vector_proj_operator(IR_key: str, class_list: list, char_table: dict, IR_dim: list, vertices) -> np.ndarray:\n",
    "    \"\"\"generate the projection operator\"\"\"\n",
    "    _, basis_dim = vertices.shape\n",
    "    proj_operator = np.zeros((3*basis_dim,3*basis_dim), dtype=np.float64)\n",
    "    h = sum([len(cls) for cls in class_list])\n",
    "    for i, cls in enumerate(class_list):\n",
    "        for element in cls:\n",
    "            proj_operator += char_table[IR_key][i] * vector_representation(element, vertices)\n",
    "    for i, key in enumerate(char_table.keys()):\n",
    "        if key == IR_key:\n",
    "            n = i\n",
    "    proj_operator *= (IR_dim[n]/h)\n",
    "    return proj_operator"
   ]
  },
  {
   "cell_type": "code",
   "execution_count": 57,
   "id": "74d94ac7",
   "metadata": {},
   "outputs": [
    {
     "name": "stdout",
     "output_type": "stream",
     "text": [
      "0 0\n",
      "[[ 0.2  0.  -0. ]\n",
      " [-0.   0.  -0. ]\n",
      " [ 0.   0.   0. ]] \n",
      "\n",
      "0 1\n",
      "[[ 0.   0.2  0. ]\n",
      " [-0.   0.   0. ]\n",
      " [ 0.   0.   0. ]] \n",
      "\n",
      "0 2\n",
      "[[-0.2 -0.   0. ]\n",
      " [ 0.  -0.   0. ]\n",
      " [-0.  -0.  -0. ]] \n",
      "\n",
      "0 3\n",
      "[[ 0.  -0.2  0. ]\n",
      " [ 0.   0.   0. ]\n",
      " [ 0.  -0.   0. ]] \n",
      "\n",
      "0 4\n",
      "[[ 0.   0.   0.2]\n",
      " [ 0.   0.  -0. ]\n",
      " [-0.   0.   0. ]] \n",
      "\n",
      "0 5\n",
      "[[ 0.   0.  -0.2]\n",
      " [ 0.   0.   0. ]\n",
      " [ 0.   0.   0. ]] \n",
      "\n",
      "1 0\n",
      "[[ 0.  -0.   0. ]\n",
      " [ 0.2  0.  -0. ]\n",
      " [ 0.   0.   0. ]] \n",
      "\n",
      "1 1\n",
      "[[ 0.   0.   0. ]\n",
      " [-0.   0.2  0. ]\n",
      " [-0.  -0.   0. ]] \n",
      "\n",
      "1 2\n",
      "[[ 0.   0.   0. ]\n",
      " [-0.2  0.   0. ]\n",
      " [ 0.   0.   0. ]] \n",
      "\n",
      "1 3\n",
      "[[-0.  -0.  -0. ]\n",
      " [ 0.  -0.2 -0. ]\n",
      " [ 0.   0.  -0. ]] \n",
      "\n",
      "1 4\n",
      "[[ 0.   0.   0. ]\n",
      " [ 0.   0.   0.2]\n",
      " [ 0.  -0.   0. ]] \n",
      "\n",
      "1 5\n",
      "[[ 0.   0.  -0. ]\n",
      " [ 0.   0.  -0.2]\n",
      " [ 0.   0.   0. ]] \n",
      "\n",
      "2 0\n",
      "[[-0.2 -0.   0. ]\n",
      " [ 0.  -0.   0. ]\n",
      " [-0.  -0.  -0. ]] \n",
      "\n",
      "2 1\n",
      "[[ 0.  -0.2  0. ]\n",
      " [ 0.   0.   0. ]\n",
      " [ 0.  -0.   0. ]] \n",
      "\n",
      "2 2\n",
      "[[ 0.2  0.  -0. ]\n",
      " [-0.   0.  -0. ]\n",
      " [ 0.   0.   0. ]] \n",
      "\n",
      "2 3\n",
      "[[ 0.   0.2  0. ]\n",
      " [-0.   0.   0. ]\n",
      " [ 0.   0.   0. ]] \n",
      "\n",
      "2 4\n",
      "[[ 0.   0.  -0.2]\n",
      " [ 0.   0.   0. ]\n",
      " [ 0.   0.   0. ]] \n",
      "\n",
      "2 5\n",
      "[[ 0.   0.   0.2]\n",
      " [ 0.   0.  -0. ]\n",
      " [-0.   0.   0. ]] \n",
      "\n",
      "3 0\n",
      "[[ 0.   0.   0. ]\n",
      " [-0.2  0.   0. ]\n",
      " [ 0.   0.   0. ]] \n",
      "\n",
      "3 1\n",
      "[[-0.  -0.  -0. ]\n",
      " [ 0.  -0.2 -0. ]\n",
      " [ 0.   0.  -0. ]] \n",
      "\n",
      "3 2\n",
      "[[ 0.  -0.   0. ]\n",
      " [ 0.2  0.  -0. ]\n",
      " [ 0.   0.   0. ]] \n",
      "\n",
      "3 3\n",
      "[[ 0.   0.   0. ]\n",
      " [-0.   0.2  0. ]\n",
      " [-0.  -0.   0. ]] \n",
      "\n",
      "3 4\n",
      "[[ 0.   0.  -0. ]\n",
      " [ 0.   0.  -0.2]\n",
      " [ 0.   0.   0. ]] \n",
      "\n",
      "3 5\n",
      "[[ 0.   0.   0. ]\n",
      " [ 0.   0.   0.2]\n",
      " [ 0.  -0.   0. ]] \n",
      "\n",
      "4 0\n",
      "[[ 0.   0.  -0. ]\n",
      " [ 0.   0.   0. ]\n",
      " [ 0.2  0.   0. ]] \n",
      "\n",
      "4 1\n",
      "[[ 0.   0.   0. ]\n",
      " [ 0.   0.  -0. ]\n",
      " [-0.   0.2  0. ]] \n",
      "\n",
      "4 2\n",
      "[[ 0.   0.   0. ]\n",
      " [ 0.   0.   0. ]\n",
      " [-0.2 -0.   0. ]] \n",
      "\n",
      "4 3\n",
      "[[ 0.   0.   0. ]\n",
      " [ 0.   0.   0. ]\n",
      " [ 0.  -0.2  0. ]] \n",
      "\n",
      "4 4\n",
      "[[ 0.  -0.  -0. ]\n",
      " [ 0.   0.   0. ]\n",
      " [ 0.  -0.   0.2]] \n",
      "\n",
      "4 5\n",
      "[[-0.   0.   0. ]\n",
      " [-0.  -0.  -0. ]\n",
      " [-0.   0.  -0.2]] \n",
      "\n",
      "5 0\n",
      "[[ 0.   0.   0. ]\n",
      " [ 0.   0.   0. ]\n",
      " [-0.2 -0.   0. ]] \n",
      "\n",
      "5 1\n",
      "[[ 0.   0.   0. ]\n",
      " [ 0.   0.   0. ]\n",
      " [ 0.  -0.2  0. ]] \n",
      "\n",
      "5 2\n",
      "[[ 0.   0.  -0. ]\n",
      " [ 0.   0.   0. ]\n",
      " [ 0.2  0.   0. ]] \n",
      "\n",
      "5 3\n",
      "[[ 0.   0.   0. ]\n",
      " [ 0.   0.  -0. ]\n",
      " [-0.   0.2  0. ]] \n",
      "\n",
      "5 4\n",
      "[[-0.   0.   0. ]\n",
      " [-0.  -0.  -0. ]\n",
      " [-0.   0.  -0.2]] \n",
      "\n",
      "5 5\n",
      "[[ 0.  -0.  -0. ]\n",
      " [ 0.   0.   0. ]\n",
      " [ 0.  -0.   0.2]] \n",
      "\n"
     ]
    }
   ],
   "source": [
    "proj_operator = vector_proj_operator(\"A_plus_1\", oct_classes, oct_char_table, oct_l, octahedral_vertices)\n",
    "\n",
    "for i in range(6):\n",
    "    for j in range(6):\n",
    "        print(i,j)\n",
    "        print(np.around(proj_operator[3*i:3*i+3,3*j:3*j+3],1), \"\\n\")\n"
   ]
  },
  {
   "attachments": {},
   "cell_type": "markdown",
   "id": "66b3e32d",
   "metadata": {},
   "source": [
    "<h5>Tetrahedral P-orbital SALCs</h5>"
   ]
  },
  {
   "cell_type": "code",
   "execution_count": 167,
   "id": "4c654bd7",
   "metadata": {},
   "outputs": [
    {
     "name": "stdout",
     "output_type": "stream",
     "text": [
      "1 SALC(s) with A_1 symmetry\n",
      "0 SALC(s) with A_2 symmetry\n",
      "1 SALC(s) with E symmetry\n",
      "1 SALC(s) with T_1 symmetry\n",
      "2 SALC(s) with T_2 symmetry\n"
     ]
    }
   ],
   "source": [
    "#calculate the degeneracy of the SALCs in each irreducible group\n",
    "for IR_key, IR_chars in tet_char_table.items():\n",
    "\n",
    "    rep_chars = []\n",
    "    for cls in tet_classes:\n",
    "        rep = vector_representation(cls[0], tetrahedral_vertices)\n",
    "        rep_chars.append(np.trace(rep))\n",
    "\n",
    "    rep_chars = np.array(rep_chars)\n",
    "    row = np.multiply(tet_class_size, IR_chars)\n",
    "    num = int(np.around((1/tet_order)*np.dot(row, rep_chars), 3))\n",
    "    print(\"{n} SALC(s) with {sym} symmetry\".format(n=num, sym=IR_key))"
   ]
  },
  {
   "cell_type": "code",
   "execution_count": null,
   "id": "72bcf1e6",
   "metadata": {},
   "outputs": [],
   "source": []
  }
 ],
 "metadata": {
  "kernelspec": {
   "display_name": "Python 3 (ipykernel)",
   "language": "python",
   "name": "python3"
  },
  "language_info": {
   "codemirror_mode": {
    "name": "ipython",
    "version": 3
   },
   "file_extension": ".py",
   "mimetype": "text/x-python",
   "name": "python",
   "nbconvert_exporter": "python",
   "pygments_lexer": "ipython3",
   "version": "3.9.13"
  }
 },
 "nbformat": 4,
 "nbformat_minor": 5
}
